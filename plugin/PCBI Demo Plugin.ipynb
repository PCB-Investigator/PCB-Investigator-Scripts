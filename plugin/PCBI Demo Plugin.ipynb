{
 "cells": [
  {
   "cell_type": "markdown",
   "metadata": {},
   "source": [
    "# PCBI Demo Plugin\n",
    "## Introduction\n",
    "This is a Tutorial on how to write a Plugin for the free Demo version of PCB Investigator.\n",
    "For further information please visit our website https://www.pcb-investigator.com/de and look into the PCB Investigator Documentation. The Documentation is either found within the download from below or at https://www.pcb-investigator.com/de/documentation.\n",
    "To Test things out yourself, you can download the PCBI Demo SDK from\n",
    "https://www.pcb-investigator.com/de/sdk-participate"
   ]
  },
  {
   "cell_type": "markdown",
   "metadata": {},
   "source": [
    "This Plugin calculates distances between Tespoints and between Testpoints and Components.\n",
    "The necessary Code already existed. I only put it to use in a GUI. You can find this and many more Scripts in our GitHub Script Collection https://github.com/sts-CAD-Software/PCB-Investigator-Scripts.\n",
    "I started with the following Script: https://github.com/sts-CAD-Software/PCB-Investigator-Scripts/blob/master/DFM/Testpoint_CheckCellOutline2CellOutline.cs"
   ]
  },
  {
   "cell_type": "markdown",
   "metadata": {},
   "source": [
    "## First Steps"
   ]
  },
  {
   "cell_type": "markdown",
   "metadata": {},
   "source": [
    "Download the SDK from above Link. And open the PCBI Project in Visual Studio (tested with VS15 and VS17).\n",
    "Compile and Run to look at it. Klick around and make yourself familiar with the Tool.\n",
    "If you have problems compiling try following:\n",
    "\n",
    "    - in the project properties set the target framework to a newer .NET version.\n",
    "    - maybe the Newtonsoft.Json.dll is missing. Copy it into the binary folder(Debug)"
   ]
  },
  {
   "cell_type": "markdown",
   "metadata": {},
   "source": [
    "For startes we will begin with something easy.\n",
    "In the Project find PluginToolBarDemo.cs."
   ]
  },
  {
   "cell_type": "code",
   "execution_count": null,
   "metadata": {
    "collapsed": true
   },
   "outputs": [],
   "source": [
    "public PluginToolBarDemo()\n",
    "        {\n",
    "\n",
    "            this.BackColor = Color.Red; //for the demo we want to highlight the tool bar\n",
    "            this.Items.Add(\"Top View\");\n",
    "            this.Items[0].Click += new EventHandler(PluginToolBarDemoTopView_Click);\n",
    "            position = ContainerPosition.Top;\n",
    "            this.Items.Add(\"Bot View\");\n",
    "            this.Items[1].Click += new EventHandler(PluginToolBarDemoBotView_Click);\n",
    "            this.Items.Add(\"Hallo\");\n",
    "            this.Items[2].Click += new EventHandler(HelloWorld_Click);\n",
    "        }"
   ]
  },
  {
   "cell_type": "markdown",
   "metadata": {},
   "source": [
    "Here i added the last two lines. This adds a button with \"Hallo\" on it and an eventhandler for clicking the button."
   ]
  },
  {
   "cell_type": "markdown",
   "metadata": {
    "collapsed": true
   },
   "source": [
    "<img src = \"files/imagesForNotebook/PCBI_Menu.png\">"
   ]
  },
  {
   "cell_type": "markdown",
   "metadata": {
    "collapsed": true
   },
   "source": [
    "now add a function to the eventhandler"
   ]
  },
  {
   "cell_type": "code",
   "execution_count": null,
   "metadata": {
    "collapsed": true
   },
   "outputs": [],
   "source": [
    "private void HelloWorld_Click(object sender, EventArgs e)\n",
    "        {\n",
    "            MessageBox.Show(\"Hello World.\", MessageBoxButtons.OK, MessageBoxIcon.Information)\n",
    "        }"
   ]
  },
  {
   "cell_type": "markdown",
   "metadata": {
    "collapsed": true
   },
   "source": [
    "Compile and run. Now if you click on \"Hallo\" a message box appears to say hello.\n",
    "You can insert any code you like.\n",
    "\n",
    "In above Picture you can see the open Plugin tab. That's where we want our Plugins.\n",
    "To see what the Script does, copy it into a new File in your Project. For example MyScript.cs like this."
   ]
  },
  {
   "cell_type": "code",
   "execution_count": null,
   "metadata": {
    "collapsed": true
   },
   "outputs": [],
   "source": [
    "//Synchronous template\n",
    "//-----------------------------------------------------------------------------------\n",
    "// PCB-Investigator Automation Script\n",
    "// Created on 2017-04-26\n",
    "// Author EasyLogix\n",
    "// www.pcb-investigator.com\n",
    "// SDK online reference http://www.pcb-investigator.com/sites/default/files/documents/InterfaceDocumentation/Index.html\n",
    "// SDK http://www.pcb-investigator.com/sdk-participate\n",
    "// Updated: 2017-06-13\n",
    "// Description: Check the distance between components and testpoints.\n",
    "//-----------------------------------------------------------------------------------\n",
    "// Favorite scripts can be placed in the ribbon menu. Therefore a unique GUID and a ButtonEnabled state is mandatory:\n",
    "// GUID Testpoint_Check_636288129921985500\n",
    "// ButtonEnabled=5   (Button enabled if: 1=Design is loaded, 2=Always, 4=Design contains components, 8=Loaded step is a panel, 16=Element is selected, 32=Component is selected)\n",
    "\n",
    "using System;\n",
    "using System.Collections.Generic;\n",
    "using System.Text;\n",
    "using PCBI.Plugin;\n",
    "using PCBI.Plugin.Interfaces;\n",
    "using System.Windows.Forms;\n",
    "using System.Drawing;\n",
    "using PCBI.Automation;\n",
    "using System.IO;\n",
    "using System.Drawing.Drawing2D;\n",
    "using PCBI.MathUtils;\n",
    "\n",
    "namespace PCBIScript\n",
    "{\n",
    "    public class MyScript\n",
    "    {\n",
    "        private const string tpReferencePrexix = \"TP\";  // Testpunkt Ref Prefix\n",
    "        private double MinDistanceTP2CMP = PCBI.MathUtils.IMath.MM2Mils(5);  // Abstand zu Bauteil\n",
    "        private double MinDistanceTP2TP = PCBI.MathUtils.IMath.MM2Mils(0.8);  // Abstand TP zu TP\n",
    "        private int tpCountTotal = 0;\n",
    "        public MyScript()\n",
    "        {\n",
    "        }\n",
    "\n",
    "        public void Execute(IPCBIWindow parent)\n",
    "        {\n",
    "            if (parent == null || !parent.JobIsLoaded)\n",
    "            {\n",
    "                MessageBox.Show(\"No job loaded.\");\n",
    "                return;\n",
    "            }\n",
    "\n",
    "            IStep step = parent.GetCurrentStep();\n",
    "            IMatrix matrix = parent.GetMatrix();\n",
    "\n",
    "            if (matrix == null || step == null)\n",
    "            {\n",
    "                MessageBox.Show(\"No job loaded.\");\n",
    "                return;\n",
    "            }\n",
    "\n",
    "            PCB_Investigator.PCBIWindows.PCBIReportDialog reportDlg = new PCB_Investigator.PCBIWindows.PCBIReportDialog(\"TP Check Cell Outline to Cell Outline and TP to high Componen\", \"Result:\");\n",
    "\n",
    "\n",
    "            //Check Top Component Layer\n",
    "            tpCountTotal = 0;\n",
    "            string topComponentLayerName = matrix.GetTopComponentLayer();\n",
    "            if (!string.IsNullOrWhiteSpace(topComponentLayerName))\n",
    "            {\n",
    "                ILayer dataLayer = step.GetLayer(topComponentLayerName);\n",
    "                if (dataLayer != null && dataLayer is ICMPLayer)\n",
    "                {\n",
    "                    CheckTestpoints((ICMPLayer)dataLayer, ref reportDlg);\n",
    "                }\n",
    "            }\n",
    "\n",
    "            //Check Bot Component Layer\n",
    "            string botComponentLayerName = matrix.GetBotComponentLayer();\n",
    "            if (!string.IsNullOrWhiteSpace(botComponentLayerName))\n",
    "            {\n",
    "                ILayer dataLayer = step.GetLayer(botComponentLayerName);\n",
    "                if (dataLayer != null && dataLayer is ICMPLayer)\n",
    "                {\n",
    "                    CheckTestpoints((ICMPLayer)dataLayer, ref reportDlg);\n",
    "                }\n",
    "            }\n",
    "\n",
    "            parent.UpdateView();\n",
    "            reportDlg.ShowDlg(PCB_Investigator.PCBIWindows.PCBIReportDialog.WindowType.Modal);\n",
    "        }\n",
    "\n",
    "        private void CheckTestpoints(ICMPLayer layer, ref PCB_Investigator.PCBIWindows.PCBIReportDialog reportDlg)\n",
    "        {\n",
    "            if (layer == null)\n",
    "            {\n",
    "                MessageBox.Show(\"Layer is null referenced.\");\n",
    "                return;\n",
    "            }\n",
    "\n",
    "            reportDlg.AppendLog(\"Analyzing \" + layer.GetLayerName() + \"          -*-*-*-*-*-*-*-*-*-*-*-*-*---------------------------------\");\n",
    "\n",
    "            PointD fromPoint = PointD.Empty, toPoint = PointD.Empty;\n",
    "\n",
    "            List<IObject> allComponents = layer.GetAllLayerObjects();\n",
    "            double maxDistance = Math.Max(MinDistanceTP2TP, MinDistanceTP2CMP) * 1.01;\n",
    "\n",
    "            int tpCountOK = 0;\n",
    "            foreach (IObject element in allComponents)\n",
    "            {\n",
    "                if (element is ICMPObject)\n",
    "                {\n",
    "                    ICMPObject tpCmp = (ICMPObject)element;\n",
    "\n",
    "                    if (tpCmp.Ref.StartsWith(tpReferencePrexix))  //cmp is a Testpoint...\n",
    "                    {\n",
    "                        tpCountTotal++;\n",
    "                        bool hasWrongDistance = false;\n",
    "                        RectangleD checkRect = tpCmp.GetBoundsD();\n",
    "                        checkRect.Inflate(maxDistance, maxDistance);\n",
    "\n",
    "                        IPolyClass tpPoly = tpCmp.GetPolygonOutline(false);\n",
    "\n",
    "                        foreach (IObject nearElement in layer.GetAllObjectInRectangle(checkRect))\n",
    "                        {\n",
    "                            if (nearElement is ICMPObject)\n",
    "                            {\n",
    "                                ICMPObject nearCmp = (ICMPObject)nearElement;\n",
    "                                if (tpCmp.Ref == nearCmp.Ref) continue;\n",
    "                                if (!nearCmp.Ref.StartsWith(tpReferencePrexix) && nearCmp.CompHEIGHT < PCBI.MathUtils.IMath.MM2Mils(5)) continue; // Abfrage ob Bauteil kleiner 5 mm, dann ignorieren ausser Testpunkte\n",
    "\n",
    "                                IPolyClass nearCmpPoly = nearCmp.GetPolygonOutline(false);\n",
    "\n",
    "                                if (tpPoly != null && nearCmpPoly != null)\n",
    "                                {\n",
    "                                    double distance = tpPoly.DistanceTo(nearCmpPoly, ref fromPoint, ref toPoint);\n",
    "                                    if (nearCmp.Ref.StartsWith(tpReferencePrexix))  //nearCmpPoly is also a Testpoint...\n",
    "                                    {\n",
    "                                        if (distance < MinDistanceTP2TP)\n",
    "                                        {\n",
    "                                            if (hasWrongDistance == false)\n",
    "                                            {\n",
    "                                                tpCmp.ObjectColor = Color.Orange;\n",
    "                                                hasWrongDistance = true;\n",
    "                                            }\n",
    "                                            reportDlg.AppendLog(\" -> \" + tpCmp.Ref + \" too close to \" + nearCmp.Ref + \" (\" + PCBI.MathUtils.IMath.Mils2MM(distance).ToString(\"F3\") + \"mm)\", PCB_Investigator.PCBIWindows.PCBIReportDialog.LogType.Warning);\n",
    "                                        }\n",
    "\n",
    "                                    }\n",
    "                                    else\n",
    "                                    {\n",
    "                                        if (distance < MinDistanceTP2CMP)\n",
    "                                        {\n",
    "                                            if (hasWrongDistance)\n",
    "                                            {\n",
    "                                                tpCmp.ObjectColor = Color.Red;\n",
    "                                                hasWrongDistance = true;\n",
    "                                            }\n",
    "                                            reportDlg.AppendLog(\" -> \" + tpCmp.Ref + \" too close to \" + nearCmp.Ref + \" (\" + PCBI.MathUtils.IMath.Mils2MM(distance).ToString(\"F3\") + \"mm)\", PCB_Investigator.PCBIWindows.PCBIReportDialog.LogType.Warning);\n",
    "                                        }\n",
    "                                    }\n",
    "                                }\n",
    "                            }\n",
    "                        }\n",
    "\n",
    "                        if (!hasWrongDistance)\n",
    "                        {\n",
    "                            tpCountOK++;\n",
    "                            tpCmp.ObjectColor = Color.Green;\n",
    "                            reportDlg.AppendLog(\" -> \" + tpCmp.Ref + \" is OK\");\n",
    "                        }\n",
    "                    }\n",
    "                }\n",
    "            }\n",
    "\n",
    "            reportDlg.AppendLog(\"=> \" + tpCountOK + \" of \" + tpCountTotal + \" Testpoints are OK **************************************************\");\n",
    "        }\n",
    "    }\n",
    "}"
   ]
  },
  {
   "cell_type": "markdown",
   "metadata": {
    "collapsed": true
   },
   "source": [
    "Now change your HelloWorld method to:"
   ]
  },
  {
   "cell_type": "code",
   "execution_count": null,
   "metadata": {
    "collapsed": true
   },
   "outputs": [],
   "source": [
    "private void HelloWorld_Click(object sender, EventArgs e)\n",
    "        {\n",
    "            PCBIScript.MyScript myScript = new PCBIScript.MyScript();\n",
    "            myScript.Execute(parent);\n",
    "        }"
   ]
  },
  {
   "cell_type": "markdown",
   "metadata": {},
   "source": [
    "After compiling and running, load an example Project. You should get an output similar to this, except if your testpoints have a different prefix or you have no testpoints in your Project. Then the output will be significantly shorter.\n",
    "Additionaly the Script changes the color of the checked testpoints. "
   ]
  },
  {
   "cell_type": "markdown",
   "metadata": {
    "collapsed": true
   },
   "source": [
    "<img src = \"files/imagesForNotebook/PCBI_ScriptOutput.png\">"
   ]
  },
  {
   "cell_type": "markdown",
   "metadata": {
    "collapsed": true
   },
   "source": [
    "## New Plugin Button and GUI\n",
    "First we want our Button to be in the PlugIn tab. For that you have to go into the PluginMenuItemDemo.cs"
   ]
  },
  {
   "cell_type": "code",
   "execution_count": null,
   "metadata": {
    "collapsed": true
   },
   "outputs": [],
   "source": [
    "void IPluginRibbonCommand.RegisterCommand()\n",
    "        {\n",
    "            regEntryPCBI_all = Parent.UIAction.RegisterID(new PCBI.Plugin.Interfaces.IRegisterItem() { Text = \"Demo Item All\", MetroStyleBackground = PCB_Investigator.PCBIStyleLibrary.PCBIColors.GetStandardColor(), MetroStyleIcon = PCB_Investigator.PCBIStyleLibrary.PCBIResources.AboutIcon(), ToolTip = \"This is a example for PCB-Investigator.\", RegisterType = RegisterItemType.BUTTON, GUID = \"D13A03D3-36F0-4306-9F7B-352681DC515C\", Category = \"Other\", EnableOn = Availability.JobOpen });\n",
    "            regEntryPCBI_top = Parent.UIAction.RegisterID(new PCBI.Plugin.Interfaces.IRegisterItem() { Text = \"Demo Item Top\", MetroStyleBackground = PCB_Investigator.PCBIStyleLibrary.PCBIColors.GetStandardColor(), MetroStyleIcon = PCB_Investigator.PCBIStyleLibrary.PCBIResources.PCB_TopView_Icon(), ToolTip = \"This is a example for PCB-Investigator.\", RegisterType = RegisterItemType.BUTTON, GUID = \"D13A03D3-36F0-4307-9F7B-352681DC515C\", Category = \"Other\", EnableOn = Availability.JobOpen });\n",
    "            regEntryPCBI_bot = Parent.UIAction.RegisterID(new PCBI.Plugin.Interfaces.IRegisterItem() { Text = \"Demo Item Bot\", MetroStyleBackground = PCB_Investigator.PCBIStyleLibrary.PCBIColors.GetStandardColor(), MetroStyleIcon = PCB_Investigator.PCBIStyleLibrary.PCBIResources.BottomViewIcon(), ToolTip = \"This is a example for PCB-Investigator.\", RegisterType = RegisterItemType.BUTTON, GUID = \"D13A03D3-36F0-4308-9F7B-352681DC515C\", Category = \"Other\", EnableOn = Availability.JobOpen });\n",
    "            regEntryPCBI_net = Parent.UIAction.RegisterID(new PCBI.Plugin.Interfaces.IRegisterItem() { Text = \"Demo Item Net\", MetroStyleBackground = PCB_Investigator.PCBIStyleLibrary.PCBIColors.GetStandardColor(), MetroStyleIcon = PCB_Investigator.PCBIStyleLibrary.PCBIResources.NetIcon(), ToolTip = \"This is a example for PCB-Investigator.\", RegisterType = RegisterItemType.BUTTON, GUID = \"D13A03D3-36F0-4309-9F7B-352681DC515C\", Category = \"Other\", EnableOn = Availability.ObjectSelected });\n",
    "            regEntryPCBI_TP_CO2CO = Parent.UIAction.RegisterID(new PCBI.Plugin.Interfaces.IRegisterItem() { Text = \"Test Point analysis Cell outline to Cell outline\", MetroStyleBackground = PCB_Investigator.PCBIStyleLibrary.PCBIColors.GetStandardColor(), MetroStyleIcon = new Icon(\"Icons/TP2CMP_16.ico\"), ToolTip = \"This checks distances between testpoints and components.\", RegisterType = RegisterItemType.BUTTON, GUID = \"D13A03D3-36F0-4311-9F7B-352681DC515C\", Category = \"Other\", EnableOn = Availability.JobOpen });\n",
    "            regEntryPCBI_embedded = Parent.UIAction.RegisterID(new PCBI.Plugin.Interfaces.IRegisterItem() { Text = \"Demo Item Embedded\", MetroStyleBackground = PCB_Investigator.PCBIStyleLibrary.PCBIColors.GetStandardColor(), MetroStyleIcon = PCB_Investigator.PCBIStyleLibrary.PCBIResources.PCBIEmbeddedIcon(), ToolTip = \"This is a example for PCB-Investigator.\", RegisterType = RegisterItemType.BUTTON, GUID = \"D13A03D3-36F0-4310-9F7B-352681DC515C\", Category = \"Other\", EnableOn = Availability.JobOpen });\n",
    "        }"
   ]
  },
  {
   "cell_type": "markdown",
   "metadata": {
    "collapsed": true
   },
   "source": [
    "Add a new regEntry with a Name you like. I added the regEntryPCBI_TP_CO2CO. For that you just have to copy paste one of the above lines. and Change a few things:\n",
    "1. Text = \"Put in the name of your Button\"\n",
    "2. You may want your own Icon so change the MetroStyleIcon = ... accordingly\n",
    "3. Change the Tooltip to what you want it to say\n",
    "4. Change the GUID. this is Important else it will give you an error. There must not be two identical GUIDs\n",
    "5. Decide when your Button/Plugin should be available. In this case Availability.JobOpen is good."
   ]
  },
  {
   "cell_type": "code",
   "execution_count": null,
   "metadata": {
    "collapsed": true
   },
   "outputs": [],
   "source": [
    "void IPluginRibbonCommand.OnCommandExecute(int cmdID)\n",
    "{\n",
    "            if (cmdID == regEntryPCBI_all)\n",
    "                ActivateAllSignalLayer();\n",
    "            else if (cmdID == regEntryPCBI_top)\n",
    "                ActivateTopCMPLayer();\n",
    "            else if (cmdID == regEntryPCBI_bot)\n",
    "                SelectAllObjectsOnBotCMPLayer();\n",
    "            else if (cmdID == regEntryPCBI_net)\n",
    "                NetSelection();\n",
    "            else if (cmdID == regEntryPCBI_embedded)\n",
    "                saveAsEmbedded();\n",
    "            else if (cmdID == regEntryPCBI_TP_CO2CO)\n",
    "                MyTool();\n",
    "}"
   ]
  },
  {
   "cell_type": "code",
   "execution_count": null,
   "metadata": {
    "collapsed": true
   },
   "outputs": [],
   "source": [
    "        int regEntryPCBI_all = -1;\n",
    "        int regEntryPCBI_top = -1;\n",
    "        int regEntryPCBI_bot = -1;\n",
    "        int regEntryPCBI_net = -1;\n",
    "        int regEntryPCBI_TP_CO2CO = -1;\n",
    "        int regEntryPCBI_embedded = -1; "
   ]
  },
  {
   "cell_type": "markdown",
   "metadata": {
    "collapsed": true
   },
   "source": [
    "Add the else if statement with your cmdID and the function you want to run and the property with your regEntry.\n",
    "Create a new function in the Events region:"
   ]
  },
  {
   "cell_type": "code",
   "execution_count": null,
   "metadata": {
    "collapsed": true
   },
   "outputs": [],
   "source": [
    "private void MyTool()\n",
    "        {\n",
    "        }"
   ]
  },
  {
   "cell_type": "markdown",
   "metadata": {
    "collapsed": true
   },
   "source": [
    "Now you should find a new Button in the PlugIn tab in the PCB Investigator.\n",
    "But yet it has to do something. Add a new WinForm and design it like you want. For this example i will use my WinForm and the related code. Included in the SDK download package you will find the PCB Documentation. Use it for reference purposes."
   ]
  },
  {
   "cell_type": "markdown",
   "metadata": {
    "collapsed": true
   },
   "source": [
    "<img src = \"files/imagesForNotebook/PCBI_PluginGUI.png\">"
   ]
  },
  {
   "cell_type": "markdown",
   "metadata": {
    "collapsed": true
   },
   "source": [
    "I used a modified version of the listview by inserting a normal listview and changing the definition in the ...Designer.cs."
   ]
  },
  {
   "cell_type": "code",
   "execution_count": null,
   "metadata": {
    "collapsed": true
   },
   "outputs": [],
   "source": [
    "private PCB_Investigator.PCBIControls.ListViewFilter.ListViewFilter listView1;"
   ]
  },
  {
   "cell_type": "markdown",
   "metadata": {
    "collapsed": true
   },
   "source": [
    "Additionaly there are three textboxes for user input of the testpoint prefix and the desired minimum distances. Also there are three buttons to start the test, close the window and open the manual. Last but not least we have a few labels to show what is what."
   ]
  },
  {
   "cell_type": "markdown",
   "metadata": {
    "collapsed": true
   },
   "source": [
    "## Implementing Functionality\n",
    "With Form and Button ready we only need to implement the Plugin itself.\n",
    "Lets start with showing the Form in PCB Investigator when the button is clicked.\n",
    "Just change your MyTool() function in PluginMenuItemDemo.cs to the following."
   ]
  },
  {
   "cell_type": "code",
   "execution_count": null,
   "metadata": {
    "collapsed": true
   },
   "outputs": [],
   "source": [
    "private void MyTool()\n",
    "        {\n",
    "            FormCheckCellOutline2CellOutline myform = new FormCheckCellOutline2CellOutline(parent);\n",
    "            myform.ShowDialog();\n",
    "        }"
   ]
  },
  {
   "cell_type": "markdown",
   "metadata": {
    "collapsed": true
   },
   "source": [
    "I used ShowDialog(), to increase usability. Now if you click your newly made Button the Form should show.\n",
    "But let's start. Following namespaces have to be included."
   ]
  },
  {
   "cell_type": "code",
   "execution_count": null,
   "metadata": {
    "collapsed": true
   },
   "outputs": [],
   "source": [
    "using System;\n",
    "using System.Globalization;\n",
    "using System.Collections.Generic;\n",
    "using System.Drawing;\n",
    "using System.Windows.Forms;\n",
    "using PCBI.Automation;\n",
    "using PCBI.MathUtils;"
   ]
  },
  {
   "cell_type": "markdown",
   "metadata": {
    "collapsed": true
   },
   "source": [
    "### Properties and Constructor of the Form"
   ]
  },
  {
   "cell_type": "code",
   "execution_count": null,
   "metadata": {
    "collapsed": true
   },
   "outputs": [],
   "source": [
    "namespace PluginDemo\n",
    "{\n",
    "\n",
    "    public partial class FormCheckCellOutline2CellOutline : Form\n",
    "    {\n",
    "        private IPCBIWindow parent;\n",
    "        private string tpPrefix;\n",
    "        private List<Color> lastColors = new List<Color>();\n",
    "        private List<ICMPObject> lastObjects = new List<ICMPObject>();\n",
    "        private ToolTip MyToolTip;\n",
    "        private bool hasWrongDistance;\n",
    "        private double MinDistanceTP2CMP;// = PCBI.MathUtils.IMath.MM2Mils(5);  // Abstand zu Bauteil\n",
    "        private double MinDistanceTP2TP;// = PCBI.MathUtils.IMath.MM2Mils(0.8);  // Abstand TP zu TP\n",
    "        private bool usedUnit;\n",
    "        private int tpCountTotal = 0;\n",
    "        private int idCount = 0;\n",
    "\n",
    "        public FormCheckCellOutline2CellOutline(IPCBIWindow parent)\n",
    "        {\n",
    "            InitializeComponent();\n",
    "            this.parent = parent;\n",
    "\n",
    "            listView1.AddColumn(\"ID\", 25, HorizontalAlignment.Left, PCB_Investigator.PCBIControls.ListViewFilter.LVFDataType.Number, false);\n",
    "            listView1.AddColumn(\"Testpoint 1\", 50, HorizontalAlignment.Left, PCB_Investigator.PCBIControls.ListViewFilter.LVFDataType.Auto, false);\n",
    "            listView1.AddColumn(\"Testpoint/Object 2\", 50, HorizontalAlignment.Left, PCB_Investigator.PCBIControls.ListViewFilter.LVFDataType.Auto, false);\n",
    "            listView1.AddColumn(\"Board Side\", 80, HorizontalAlignment.Left, PCB_Investigator.PCBIControls.ListViewFilter.LVFDataType.String, false);\n",
    "            listView1.AddColumn(\"Warning\", 60, HorizontalAlignment.Left, PCB_Investigator.PCBIControls.ListViewFilter.LVFDataType.String, false);\n",
    "            listView1.AddColumn(\"Distance\", -2, HorizontalAlignment.Left, PCB_Investigator.PCBIControls.ListViewFilter.LVFDataType.Number, false);\n",
    "\n",
    "            parent.PCBIJobClosed += Parent_PCBIJobClosed;\n",
    "        }"
   ]
  },
  {
   "cell_type": "markdown",
   "metadata": {
    "collapsed": true
   },
   "source": [
    "The parent property is needed so the Plugin has access to the PCB Investigators Features and the loaded Project. The rest is for later use and will be explained then. \n",
    "In the Constructor the listview is filled with Columns to use as output. Each element, which was seen before in the LogBox created by the raw Script, will have an ID, the names of the Tespoints/Objects tested, the side of the board on which they lie, an indicator if the test was ok or if there was a violation and the distance between the tested objects.\n",
    "With the last line i added a new Event."
   ]
  },
  {
   "cell_type": "markdown",
   "metadata": {
    "collapsed": true
   },
   "source": [
    "### Buttons and Events"
   ]
  },
  {
   "cell_type": "code",
   "execution_count": null,
   "metadata": {
    "collapsed": true
   },
   "outputs": [],
   "source": [
    " private void Parent_PCBIJobClosed(object sender, EventArgs e)\n",
    "        {\n",
    "            this.Close();\n",
    "        }"
   ]
  },
  {
   "cell_type": "markdown",
   "metadata": {},
   "source": [
    "Definition of above declared Event, so if the PCB Investigator window is closed the plugin also shuts down."
   ]
  },
  {
   "cell_type": "code",
   "execution_count": null,
   "metadata": {
    "collapsed": true
   },
   "outputs": [],
   "source": [
    "private void FormCheckCellOutline2CellOutline_Activated(object sender, EventArgs e)\n",
    "        {\n",
    "            if (parent.GetUnit())\n",
    "            {\n",
    "                Lblmm0.Text = \"mm\";\n",
    "                Lblmm1.Text = \"mm\";\n",
    "            }\n",
    "            else\n",
    "            {\n",
    "                Lblmm0.Text = \"mils\";\n",
    "                Lblmm1.Text = \"mils\";\n",
    "                TxtBoxMinDstTP2CMP.Text = \"80\"; \n",
    "                TxtBoxMinDstTP2TP.Text = \"100\";\n",
    "            }\n",
    "        }"
   ]
  },
  {
   "cell_type": "markdown",
   "metadata": {},
   "source": [
    "This triggers when the form loads.\n",
    "It is used to change the unit from metric to imperial."
   ]
  },
  {
   "cell_type": "code",
   "execution_count": null,
   "metadata": {
    "collapsed": true
   },
   "outputs": [],
   "source": [
    "private void Event_KeyUp(object sender, KeyEventArgs e)\n",
    "        {\n",
    "            if (e.KeyCode == Keys.Enter)\n",
    "            {\n",
    "                CmdStart_Click(sender, e);\n",
    "            }\n",
    "            if (e.KeyCode == Keys.Escape) \n",
    "            {\n",
    "                CmdCancel_Click(sender, e);\n",
    "            }\n",
    "        }"
   ]
  },
  {
   "cell_type": "markdown",
   "metadata": {},
   "source": [
    "This is only to add usability. The User can press Enter to start the Tool and Escape to exit it."
   ]
  },
  {
   "cell_type": "code",
   "execution_count": null,
   "metadata": {
    "collapsed": true
   },
   "outputs": [],
   "source": [
    "private void CmdCancel_Click(object sender, EventArgs e)\n",
    "        {\n",
    "            this.Close();\n",
    "        }"
   ]
  },
  {
   "cell_type": "markdown",
   "metadata": {},
   "source": [
    "A click on Cancel closes the window."
   ]
  },
  {
   "cell_type": "code",
   "execution_count": null,
   "metadata": {
    "collapsed": true
   },
   "outputs": [],
   "source": [
    "private void CmdHelp_Click(object sender, EventArgs e)\n",
    "        {\n",
    "            System.Diagnostics.Process.Start(\"Manual.pdf\");\n",
    "        }"
   ]
  },
  {
   "cell_type": "markdown",
   "metadata": {},
   "source": [
    "A click on the help button opens the Manual."
   ]
  },
  {
   "cell_type": "code",
   "execution_count": null,
   "metadata": {
    "collapsed": true
   },
   "outputs": [],
   "source": [
    "private void CmdStart_Click(object sender, EventArgs e)\n",
    "        {\n",
    "            if (string.IsNullOrWhiteSpace(TxtBoxPrefix.Text))\n",
    "            {\n",
    "                MessageBox.Show(\"Please enter the prefix of your Testpoints\");\n",
    "                return;\n",
    "            }\n",
    "            else\n",
    "                tpPrefix = TxtBoxPrefix.Text;\n",
    "\n",
    "\n",
    "            usedUnit = parent.GetUnit();\n",
    "            //parse Min Distances\n",
    "            try\n",
    "            {\n",
    "                MinDistanceTP2CMP = NumToEU(TxtBoxMinDstTP2CMP.Text, usedUnit);\n",
    "                MinDistanceTP2TP = NumToEU(TxtBoxMinDstTP2TP.Text, usedUnit);\n",
    "            }\n",
    "            catch (Exception exeption1)\n",
    "            {\n",
    "                MessageBox.Show(\"Invalid distance.\", exeption1.Message, MessageBoxButtons.OK, MessageBoxIcon.Error);\n",
    "                return;\n",
    "            }\n",
    "\n",
    "            IStep step = parent.GetCurrentStep();\n",
    "            IMatrix matrix = parent.GetMatrix();\n",
    "\n",
    "            listView1.DeleteAllItems();\n",
    "            listView1.RemoveFilter();\n",
    "\n",
    "            //Check Top Component Layer\n",
    "            tpCountTotal = 0;\n",
    "            idCount = 0;\n",
    "            CheckLayer(step, matrix.GetTopComponentLayer());\n",
    "            //Check Bot Component Layer\n",
    "            tpCountTotal = 0;\n",
    "            CheckLayer(step, matrix.GetBotComponentLayer());\n",
    "            \n",
    "\n",
    "            lastColors.Clear();\n",
    "            lastObjects.Clear();\n",
    "            parent.UpdateView();\n",
    "        }"
   ]
  },
  {
   "cell_type": "markdown",
   "metadata": {},
   "source": [
    "\n",
    "The Start button does a few things more. The if statement checks if anything was entered as prefix. The try-catch block converts the input of the two textboxes containing the minimum distances into numbers. The NumToEU method is eplained below. After that the current step and matrix are fetched and the listview is cleared. Then top and bottom layer are checked by the script. "
   ]
  },
  {
   "cell_type": "code",
   "execution_count": null,
   "metadata": {
    "collapsed": true
   },
   "outputs": [],
   "source": [
    "        public double NumToEU(string number, bool unit)\n",
    "        {\n",
    "            double newValue;\n",
    "            NumberFormatInfo provider = new NumberFormatInfo();\n",
    "            provider.NumberDecimalSeparator = \",\";\n",
    "            provider.NumberGroupSeparator = \".\";\n",
    "\n",
    "            if (number.IndexOf(\",\") < number.IndexOf(\".\"))\n",
    "            {\n",
    "                char temp = '+';\n",
    "                number = number.Replace(',', temp);\n",
    "                number = number.Replace('.', ',');\n",
    "                number = number.Replace(temp, '.');\n",
    "            }\n",
    "\n",
    "            try\n",
    "            {\n",
    "                newValue = Convert.ToDouble(number, provider);\n",
    "            }\n",
    "            catch (FormatException)\n",
    "            {\n",
    "                throw new FormatException(\"Unexpected characters.\");\n",
    "            }\n",
    "            catch (OverflowException)\n",
    "            {\n",
    "                throw new OverflowException(\"Value out of range.\");\n",
    "            }\n",
    "\n",
    "            if (unit)\n",
    "            {\n",
    "                return IMath.MM2Mils(newValue);\n",
    "            }\n",
    "            else\n",
    "            {\n",
    "                return newValue;\n",
    "            }\n",
    "        }"
   ]
  },
  {
   "cell_type": "markdown",
   "metadata": {},
   "source": [
    "Here I used the method described in the documentation of Convert.ToDouble(number, provider). What happens essentially is, i define a convention how numbers are written and if the number i get uses another, i just switch ',' with '.' so it matches the other one. After that i convert the number via Convert.ToDouble and check if it's really a number. The conversion to mils is necessary, because in a later part of the program the distances are compared with a mils value."
   ]
  },
  {
   "cell_type": "code",
   "execution_count": null,
   "metadata": {
    "collapsed": true
   },
   "outputs": [],
   "source": [
    "        private void CheckLayer(IStep step, string layerName)\n",
    "        {\n",
    "            if (!string.IsNullOrWhiteSpace(layerName))\n",
    "            {\n",
    "                ILayer dataLayer = step.GetLayer(layerName);\n",
    "                if (dataLayer != null && dataLayer is ICMPLayer)\n",
    "                {\n",
    "                    CheckTestpoints((ICMPLayer)dataLayer);\n",
    "                }\n",
    "            }\n",
    "        }"
   ]
  },
  {
   "cell_type": "markdown",
   "metadata": {},
   "source": [
    "the CheckLayer method just checks a few exceptions and then calls CheckTestpoints."
   ]
  },
  {
   "cell_type": "markdown",
   "metadata": {},
   "source": [
    "### The actual Script\n",
    "Now let's have a look at how the rest of the Script has changed. "
   ]
  },
  {
   "cell_type": "code",
   "execution_count": null,
   "metadata": {
    "collapsed": true
   },
   "outputs": [],
   "source": [
    "        public void CheckTestpoints(ICMPLayer layer)\n",
    "        {\n",
    "            PointD fromPoint = PointD.Empty, toPoint = PointD.Empty;\n",
    "\n",
    "            List<IObject> allComponents = layer.GetAllLayerObjects();\n",
    "            double maxDistance = Math.Max(MinDistanceTP2TP, MinDistanceTP2CMP) * 1.01;\n",
    "\n",
    "            int tpCountOK = 0;\n",
    "            string layerName = layer.GetLayerName();\n",
    "            foreach (IObject element in allComponents)\n",
    "            {\n",
    "                if (element is ICMPObject)\n",
    "                {\n",
    "                    ICMPObject tpCmp = (ICMPObject)element;\n",
    "\n",
    "                    if (tpCmp.Ref.StartsWith(tpPrefix))  //cmp is a Testpoint...\n",
    "                    {\n",
    "                        tpCountTotal++;\n",
    "\n",
    "                        hasWrongDistance = false;\n",
    "                        RectangleD checkRect = tpCmp.GetBoundsD();\n",
    "                        checkRect.Inflate(maxDistance, maxDistance);\n",
    "\n",
    "                        IPolyClass tpPoly = tpCmp.GetPolygonOutline(false);\n",
    "\n",
    "                        foreach (IObject nearElement in layer.GetAllObjectInRectangle(checkRect))\n",
    "                        {\n",
    "\n",
    "                            if (nearElement is ICMPObject)\n",
    "                            {\n",
    "                                ICMPObject nearCmp = (ICMPObject)nearElement;\n",
    "                                if (tpCmp.Ref == nearCmp.Ref) continue;\n",
    "                                // Check if component is smaller than 5mm\n",
    "                                if (!nearCmp.Ref.StartsWith(tpPrefix) && nearCmp.CompHEIGHT < PCBI.MathUtils.IMath.MM2Mils(5)) \n",
    "                                    continue; \n",
    "\n",
    "                                IPolyClass nearCmpPoly = nearCmp.GetPolygonOutline(false);\n",
    "\n",
    "                                if (tpPoly != null && nearCmpPoly != null)\n",
    "                                {\n",
    "                                    double distance = tpPoly.DistanceTo(nearCmpPoly, ref fromPoint, ref toPoint);\n",
    "                                    CheckNearElements(tpCmp, nearCmp, distance, layerName);\n",
    "                                }\n",
    "                            }\n",
    "                        }\n",
    "\n",
    "                        if (!hasWrongDistance)\n",
    "                        {\n",
    "                            idCount++;\n",
    "                            tpCountOK++;\n",
    "                            tpCmp.ObjectColor = Color.Green;\n",
    "                            AddListItem(idCount, tpCmp.Ref, \"\", layerName, \"OK\", \"\");\n",
    "                        }\n",
    "                        \n",
    "                    }\n",
    "                }\n",
    "            }\n",
    "\n",
    "            WriteLabels(tpCountOK, tpCountTotal, layerName);\n",
    "\n",
    "        }"
   ]
  },
  {
   "cell_type": "markdown",
   "metadata": {
    "collapsed": true
   },
   "source": [
    "First two Points for a later calculation and a list containing all objects of the job are created. The max distance is going to be used shortly. After checking for each object in the list if it is an ICMPObject and if it is a testpoint "
   ]
  },
  {
   "cell_type": "code",
   "execution_count": null,
   "metadata": {
    "collapsed": true
   },
   "outputs": [],
   "source": [
    "                        RectangleD checkRect = tpCmp.GetBoundsD();\n",
    "                        checkRect.Inflate(maxDistance, maxDistance);"
   ]
  },
  {
   "cell_type": "markdown",
   "metadata": {
    "collapsed": true
   },
   "source": [
    "creates a rectangle with the bounds of the testpoint and inflates it by maxDistance on both axes. Using this Rectangle the list of objects to compare with is drastically reduced. Only Objects within the rectangle are checked, because anything further away is ok anyway and can be ignored.\n",
    "Each of the Objects within the rectangle is again checked if it is an ICMPObject, if it is the same as the first one and if it is smaller than 5mm. If it passes all those checks the distance between the two objects is calculated. this calculation returns a value in mils. That's why the minDistances were saved in mils, too."
   ]
  },
  {
   "cell_type": "code",
   "execution_count": null,
   "metadata": {
    "collapsed": true
   },
   "outputs": [],
   "source": [
    "private void CheckNearElements(ICMPObject tpCmp, ICMPObject nearCmp, double distance, string layerName)\n",
    "{\n",
    "            \n",
    "            if (nearCmp.Ref.StartsWith(tpPrefix))  //nearCmpPoly is also a Testpoint...\n",
    "            {\n",
    "                if (distance < MinDistanceTP2TP)\n",
    "                {\n",
    "                    idCount++;\n",
    "                    if (hasWrongDistance == false)\n",
    "                    {\n",
    "                        tpCmp.ObjectColor = Color.Orange;\n",
    "                        hasWrongDistance = true;\n",
    "                    }\n",
    "\n",
    "                    if (usedUnit)\n",
    "                    {\n",
    "                        AddListItem(idCount, tpCmp.Ref, nearCmp.Ref, layerName, \"X\", \n",
    "                                    PCBI.MathUtils.IMath.Mils2MM(distance).ToString(\"F3\"));\n",
    "                    }\n",
    "                    else\n",
    "                    {\n",
    "                        AddListItem(idCount, tpCmp.Ref, nearCmp.Ref, layerName, \"X\", \n",
    "                                    distance.ToString(\"F3\"));\n",
    "                    }\n",
    "\n",
    "                }\n",
    "\n",
    "            }\n",
    "            else\n",
    "            {\n",
    "                if (distance < MinDistanceTP2CMP)\n",
    "                {\n",
    "                    idCount++;\n",
    "                    if (hasWrongDistance == false)\n",
    "                    {\n",
    "                        hasWrongDistance = true;\n",
    "                    }\n",
    "                    tpCmp.ObjectColor = Color.Red;\n",
    "                    if (usedUnit)\n",
    "                    {\n",
    "                        AddListItem(idCount, tpCmp.Ref, nearCmp.Ref, layerName, \"X\",\n",
    "                                    PCBI.MathUtils.IMath.Mils2MM(distance).ToString(\"F3\"));\n",
    "                    }\n",
    "                    else\n",
    "                    {\n",
    "                        AddListItem(idCount, tpCmp.Ref, nearCmp.Ref, layerName, \"X\", \n",
    "                                    distance.ToString(\"F3\"));\n",
    "                    }\n",
    "                }\n",
    "            }\n",
    "        }"
   ]
  },
  {
   "cell_type": "markdown",
   "metadata": {},
   "source": [
    "Depending on wether the object to compare is a testpoint or a component the correstponding minDistance value is used to check if it is far enough away. If it is not, it is marked with hasWrongdistance(if not already) so it doesn't get signed as ok, colored and an Element for the listview is created."
   ]
  },
  {
   "cell_type": "code",
   "execution_count": null,
   "metadata": {
    "collapsed": true
   },
   "outputs": [],
   "source": [
    "        private void AddListItem(int ID, string TP1, string TP2, string layerName, string warning, string distance)\n",
    "        {\n",
    "            ListViewItem item = new ListViewItem(ID.ToString());\n",
    "            item.SubItems.Add(TP1);\n",
    "            item.SubItems.Add(TP2);\n",
    "            item.SubItems.Add(layerName);\n",
    "            item.SubItems.Add(warning);\n",
    "            item.SubItems.Add(distance);\n",
    "            listView1.Items.Add(item);\n",
    "        }"
   ]
  },
  {
   "cell_type": "markdown",
   "metadata": {},
   "source": [
    "Back to CheckTestpoints. If the the testpoint was checked against all elements and did not have any problems, it gets marked as ok and colored in green and added to the listview. "
   ]
  },
  {
   "cell_type": "code",
   "execution_count": null,
   "metadata": {
    "collapsed": true
   },
   "outputs": [],
   "source": [
    "        private void WriteLabels(int tpCountOK, int tpCountTotal, string layerName)\n",
    "        {\n",
    "            IMatrix matrix = parent.GetMatrix();\n",
    "            if (layerName.ToLower() == matrix.GetTopComponentLayer().ToLower())\n",
    "            {\n",
    "                LblOkTop.Text = (\"Top: \" + tpCountOK + \" of \" + tpCountTotal + \" Testpoints are OK\");\n",
    "            }\n",
    "            else\n",
    "            {\n",
    "                LblOkBot.Text = (\"Bot: \" + tpCountOK + \" of \" + tpCountTotal + \" Testpoints are OK\");\n",
    "            }\n",
    "        }"
   ]
  },
  {
   "cell_type": "markdown",
   "metadata": {},
   "source": [
    "When all the checks are done, the two labels beneath the listview get their text reassigned."
   ]
  },
  {
   "cell_type": "markdown",
   "metadata": {},
   "source": [
    "### Adding Functionality\n",
    "Up until now the tool can do a few things more than the script. Filtering is provided by the custom listview class, it has a manual attached and it looks nicer. But one thing is missing. It would be nice, if it was possible to select items from the listview so that they are shown in the mainwindow."
   ]
  },
  {
   "cell_type": "code",
   "execution_count": null,
   "metadata": {
    "collapsed": true
   },
   "outputs": [],
   "source": [
    "        private void ValueSelected(object sender, EventArgs e)\n",
    "        {\n",
    "            //reset colors if previously changed by this function\n",
    "            for (int i = 0; i < lastObjects.Count; i++)\n",
    "            {\n",
    "                if (lastObjects[i] != null)\n",
    "                {\n",
    "                    lastObjects[i].ObjectColor = lastColors[i];\n",
    "                }\n",
    "            }\n",
    "            lastColors.Clear();\n",
    "            lastObjects.Clear();\n",
    "            parent.UpdateView();\n",
    "\n",
    "            IStep step = parent.GetCurrentStep();\n",
    "            IMatrix matrix = parent.GetMatrix();\n",
    "            if (matrix == null || step == null)\n",
    "            {\n",
    "                MessageBox.Show(\"No job loaded.\");\n",
    "                return;\n",
    "            }\n",
    "\n",
    "\n",
    "            //Get Names of Points/Components\n",
    "            string[] TPNames = { listView1.SelectedItems[0].SubItems[1].Text, listView1.SelectedItems[0].SubItems[2].Text };\n",
    "            string layerName = listView1.SelectedItems[0].SubItems[3].Text;\n",
    "\n",
    "            //Check layer\n",
    "            if (!string.IsNullOrWhiteSpace(layerName))\n",
    "            {\n",
    "                ILayer dataLayer = step.GetLayer(layerName);\n",
    "                if (dataLayer != null && dataLayer is ICMPLayer)\n",
    "                {\n",
    "                    foreach (string name in TPNames)\n",
    "                    {\n",
    "                        lastObjects.Add(GetObject((ICMPLayer)dataLayer, name));\n",
    "                    }\n",
    "                }\n",
    "            }\n",
    "\n",
    "            EnableLayer(step, matrix, layerName);\n",
    "\n",
    "            //go to the objects\n",
    "            ZoomObjects(lastObjects);\n",
    "\n",
    "            //the objects shall be blue!\n",
    "            foreach(ICMPObject TP in lastObjects)\n",
    "            {\n",
    "                if (TP != null)\n",
    "                {\n",
    "                    lastColors.Add(TP.ObjectColor);\n",
    "                    TP.ObjectColor = Color.Blue;\n",
    "                }\n",
    "            }\n",
    "\n",
    "            parent.UpdateView();\n",
    "        }"
   ]
  },
  {
   "cell_type": "markdown",
   "metadata": {},
   "source": [
    "This method triggers if an item in the listview is selected by doubleclick. First it resets colors if changed previously. Second is a little safety check. Then the names of the Testpoints are extracted from the listview.\n",
    "For each of these names the corresponding Object is fetched by GetObject."
   ]
  },
  {
   "cell_type": "code",
   "execution_count": null,
   "metadata": {
    "collapsed": true
   },
   "outputs": [],
   "source": [
    "        private ICMPObject GetObject(ICMPLayer layer, string name)\n",
    "        {\n",
    "            List<IObject> allComponents = layer.GetAllLayerObjects();\n",
    "            foreach (IObject element in allComponents)\n",
    "            {\n",
    "                if (element is ICMPObject)\n",
    "                {\n",
    "                    ICMPObject tpCmp = (ICMPObject)element;\n",
    "                    if (tpCmp.Ref == name)\n",
    "                    {\n",
    "                        return tpCmp;\n",
    "                    }\n",
    "                }\n",
    "            }\n",
    "            return null;\n",
    "        }"
   ]
  },
  {
   "cell_type": "markdown",
   "metadata": {},
   "source": [
    "This method iterates through all objects on a given layer and returns the one with the same name as given. If it can't find the Object, it returns null.\n",
    "\n",
    "After getting the two objects the layer is made visible by EnableLayer."
   ]
  },
  {
   "cell_type": "code",
   "execution_count": null,
   "metadata": {
    "collapsed": true
   },
   "outputs": [],
   "source": [
    "        private void EnableLayer(IStep step, IMatrix matrix, string layerName)\n",
    "        {\n",
    "            if (matrix != null && step != null)\n",
    "            {\n",
    "                string topComponentLayerName = matrix.GetTopComponentLayer();\n",
    "                string botComponentLayerName = matrix.GetBotComponentLayer();\n",
    "\n",
    "                //enable layer on which the object lies, disable the other one\n",
    "                List<ILayer> visibleLayers = step.GetVisibleLayerList();\n",
    "                if (layerName.ToLower() == topComponentLayerName.ToLower())\n",
    "                {\n",
    "                    try\n",
    "                    {\n",
    "                        ILayer botLayer = visibleLayers.Find(layer => layer.GetLayerName().ToLower() == botComponentLayerName.ToLower());\n",
    "                        botLayer.DisableLayer();\n",
    "                    }\n",
    "                    catch { }\n",
    "                    ILayer topLayer = step.GetLayer(topComponentLayerName);\n",
    "                    topLayer.EnableLayer(true);\n",
    "                }\n",
    "                else\n",
    "                {\n",
    "                    try\n",
    "                    {\n",
    "                        ILayer topLayer = visibleLayers.Find(layer => layer.GetLayerName().ToLower() == topComponentLayerName.ToLower());\n",
    "                        topLayer.DisableLayer();\n",
    "                    }\n",
    "                    catch { }\n",
    "                    ILayer botLayer = step.GetLayer(botComponentLayerName);\n",
    "                    botLayer.EnableLayer(true);\n",
    "                }\n",
    "\n",
    "            }\n",
    "        }"
   ]
  },
  {
   "cell_type": "markdown",
   "metadata": {},
   "source": [
    "EnableLayer compares the bottom layer name and the top layer name with the given layer name and enables the given one (or none, if any other layer is given) and disables the other one. \n",
    "\n",
    "When the right layer is enabled the view gets zoomed in to the two objects by ZoomObjects"
   ]
  },
  {
   "cell_type": "code",
   "execution_count": null,
   "metadata": {
    "collapsed": true
   },
   "outputs": [],
   "source": [
    "        private void ZoomObjects(List<ICMPObject> components)\n",
    "        {\n",
    "            RectangleD view = RectangleD.Empty;\n",
    "            foreach (ICMPObject component in components)\n",
    "            {\n",
    "                if (component != null)\n",
    "                {\n",
    "                    if (view.IsEmpty)\n",
    "                    {\n",
    "                        view = component.GetBoundsD();\n",
    "                    }\n",
    "                    else\n",
    "                    {\n",
    "                        view = RectangleD.Union(view, component.GetBoundsD());\n",
    "                    }\n",
    "                }\n",
    "\n",
    "            }\n",
    "            view.Inflate(30, 40);\n",
    "            parent.ZoomRect(view);\n",
    "        }"
   ]
  },
  {
   "cell_type": "markdown",
   "metadata": {},
   "source": [
    "ZoomObjects creates a minimal rectangle around all given objects. Then it inflates the rectangle a bit and sets the main window to it.\n",
    "\n",
    "With zooming in done, the selected object(s) get a new color(blue) and the main window view gets updated.\n",
    "\n",
    "This is the whole plugin. I hope this Documentation/Tutorial helped you understand how to write a plugin for PCB Investigator."
   ]
  }
 ],
 "metadata": {
  "kernelspec": {
   "display_name": "C#",
   "language": "csharp",
   "name": "icsharpkernel"
  },
  "language": "csharp",
  "language_info": {
   "codemirror_mode": {
    "name": "ipython",
    "version": 3
   },
   "file_extension": ".py",
   "mimetype": "text/x-python",
   "name": "python",
   "nbconvert_exporter": "python",
   "pygments_lexer": "ipython3",
   "version": "3.6.1"
  }
 },
 "nbformat": 4,
 "nbformat_minor": 2
}
